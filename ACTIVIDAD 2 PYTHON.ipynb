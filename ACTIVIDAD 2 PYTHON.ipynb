{
 "cells": [
  {
   "cell_type": "code",
   "execution_count": 19,
   "metadata": {},
   "outputs": [],
   "source": [
    "# Función para calcular la media\n",
    "# Media (promedio):\n",
    "# Es el valor promedio de un conjunto de datos y se calcula sumando todos los valores y dividiendo por el número de observaciones.\n",
    "def calcular_media(datos):\n",
    "    return sum(datos) / len(datos)\n",
    "\n",
    "# Explicación del código:\n",
    "# Suma todos los valores del conjunto de datos y los divide por la cantidad de datos."
   ]
  },
  {
   "cell_type": "code",
   "execution_count": 20,
   "metadata": {},
   "outputs": [],
   "source": [
    "# Función para calcular la mediana\n",
    "# Mediana:\n",
    "# Es el valor que divide el conjunto de datos en dos partes iguales, cuando los datos están ordenados. \n",
    "# Si el número de observaciones es impar, es el valor central; si es par, es el promedio de los dos valores centrales.\n",
    "def calcular_mediana(datos):\n",
    "    datos_ordenados = sorted(datos)\n",
    "    n = len(datos)\n",
    "    mitad = n // 2\n",
    "    if n % 2 == 0:  # Si es par, se promedian los dos valores centrales\n",
    "        return (datos_ordenados[mitad - 1] + datos_ordenados[mitad]) / 2\n",
    "    else:  # Si es impar, se toma el valor central\n",
    "        return datos_ordenados[mitad]\n",
    "\n",
    "# Explicación del código:\n",
    "# Ordena los datos y verifica si el número de elementos es impar o par. Si es impar, \n",
    "# devuelve el valor central; si es par, devuelve el promedio de los dos valores centrales."
   ]
  },
  {
   "cell_type": "code",
   "execution_count": 21,
   "metadata": {},
   "outputs": [],
   "source": [
    "# Función para calcular la moda\n",
    "# Moda:\n",
    "# Es el valor o valores que aparecen con mayor frecuencia en el conjunto de datos. \n",
    "# Puede haber más de una moda si varios valores tienen la misma frecuencia.\n",
    "def calcular_moda(datos):\n",
    "    frecuencia = {}\n",
    "    for valor in datos:\n",
    "        if valor in frecuencia:\n",
    "            frecuencia[valor] += 1\n",
    "        else:\n",
    "            frecuencia[valor] = 1\n",
    "    \n",
    "    max_frecuencia = max(frecuencia.values())\n",
    "    modas = [key for key, value in frecuencia.items() if value == max_frecuencia]\n",
    "    \n",
    "    if len(modas) == 1:  # Si hay una sola moda\n",
    "        return modas[0]\n",
    "    else:\n",
    "        return modas  # Si hay múltiples modas\n",
    "\n",
    "# Explicación del código:\n",
    "# Usa un diccionario para contar la frecuencia de cada valor y luego devuelve el valor o valores con mayor frecuencia.\n"
   ]
  },
  {
   "cell_type": "code",
   "execution_count": 22,
   "metadata": {},
   "outputs": [],
   "source": [
    "# Función para calcular la varianza\n",
    "# Varianza:\n",
    "#Mide la dispersión de los datos con respecto a la media. \n",
    "# Se calcula como el promedio de los cuadrados de las diferencias entre cada valor y la media.\n",
    "def calcular_varianza(datos):\n",
    "    media = calcular_media(datos)\n",
    "    return sum((x - media) ** 2 for x in datos) / len(datos)\n",
    "\n",
    "# Explicación del código:\n",
    "# Calcula la media y luego encuentra la suma de los cuadrados de las diferencias entre cada valor y la media, \n",
    "# dividido por el número de datos. "
   ]
  },
  {
   "cell_type": "code",
   "execution_count": 23,
   "metadata": {},
   "outputs": [],
   "source": [
    "# Función para calcular la desviación estándar\n",
    "# Desviación estándar:\n",
    "# Es la raíz cuadrada de la varianza y proporciona una medida de dispersión en las mismas unidades que los datos originales.\n",
    "def calcular_desviacion_estandar(datos):\n",
    "    return calcular_varianza(datos) ** 0.5\n",
    "\n",
    "# Explicación del código:\n",
    "# Toma la raíz cuadrada de la varianza para obtener la desviación estándar."
   ]
  },
  {
   "cell_type": "code",
   "execution_count": 24,
   "metadata": {},
   "outputs": [],
   "source": [
    "# Función para calcular el coeficiente de variación\n",
    "# Coeficiente de variación\n",
    "# Mide la dispersión relativa de los datos con respecto a la media. \n",
    "# Se calcula dividiendo la desviación estándar por la media y se expresa en porcentaje.\n",
    "def calcular_coeficiente_variacion(datos):\n",
    "    media = calcular_media(datos)\n",
    "    desviacion_estandar = calcular_desviacion_estandar(datos)\n",
    "    return (desviacion_estandar / media) * 100\n",
    "\n",
    "# Explicación del código:\n",
    "# Divide la desviación estándar por la media y lo multiplica por 100 para obtener el coeficiente de variación en porcentaje."
   ]
  },
  {
   "cell_type": "code",
   "execution_count": 25,
   "metadata": {},
   "outputs": [],
   "source": [
    "# Función para normalizar un valor con Z-score\n",
    "# Normalización Z:\n",
    "# Permite comparar diferentes conjuntos de datos al normalizar los valores con respecto a la media y la desviación estándar.\n",
    "# Indica cuántas desviaciones estándar se encuentra un valor de la media.\n",
    "def normalizacion_z(valor, datos):\n",
    "    media = calcular_media(datos)\n",
    "    desviacion_estandar = calcular_desviacion_estandar(datos)\n",
    "    return (valor - media) / desviacion_estandar\n",
    "\n",
    "# Explicación del código:\n",
    "# Normaliza un valor calculando cuántas desviaciones estándar se encuentra de la media."
   ]
  },
  {
   "cell_type": "code",
   "execution_count": 26,
   "metadata": {},
   "outputs": [
    {
     "name": "stdout",
     "output_type": "stream",
     "text": [
      "Media: 24.0\n",
      "Mediana: 20\n",
      "Moda: 20\n",
      "Varianza: 104.0\n",
      "Desviación estándar: 10.198039027185569\n",
      "Coeficiente de variación: 42.49182927993987\n",
      "Puntuación Z de 20: -0.3922322702763681\n"
     ]
    }
   ],
   "source": [
    "datos = [10, 20, 20, 30, 40]\n",
    "\n",
    "print(\"Media:\", calcular_media(datos))\n",
    "print(\"Mediana:\", calcular_mediana(datos))\n",
    "print(\"Moda:\", calcular_moda(datos))\n",
    "print(\"Varianza:\", calcular_varianza(datos))\n",
    "print(\"Desviación estándar:\", calcular_desviacion_estandar(datos))\n",
    "print(\"Coeficiente de variación:\", calcular_coeficiente_variacion(datos))\n",
    "print(\"Puntuación Z de 20:\", normalizacion_z(20, datos))\n"
   ]
  },
  {
   "cell_type": "markdown",
   "metadata": {},
   "source": [
    "Referencias\n",
    "\n",
    "El Libro de Python. (2024). El Libro De Python. https://ellibrodepython.com/\n",
    "\n",
    "Lutz, M. (2013). Learning Python (5th ed.). O'Reilly Media.\n",
    "\n",
    "Guttag, J. V. (2013). Introduction to Computation and Programming Using Python. MIT Press.\n",
    "\n",
    "Tkinter Documentation (2023). Tkinter – Python interface to Tcl/Tk.\n",
    "\n",
    "Ross, S. M. (2020). Introduction to Probability and Statistics for Engineers and Scientists. Academic Press.\n",
    "\n"
   ]
  }
 ],
 "metadata": {
  "kernelspec": {
   "display_name": "Python 3",
   "language": "python",
   "name": "python3"
  },
  "language_info": {
   "codemirror_mode": {
    "name": "ipython",
    "version": 3
   },
   "file_extension": ".py",
   "mimetype": "text/x-python",
   "name": "python",
   "nbconvert_exporter": "python",
   "pygments_lexer": "ipython3",
   "version": "3.12.6"
  }
 },
 "nbformat": 4,
 "nbformat_minor": 2
}
